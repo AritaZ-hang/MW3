{
 "cells": [
  {
   "cell_type": "markdown",
   "metadata": {},
   "source": [
    "# SCENICplus pipeline\n",
    "## Create Scenic+ object"
   ]
  },
  {
   "cell_type": "code",
   "execution_count": null,
   "metadata": {},
   "outputs": [],
   "source": [
    "## environment configure ##\n",
    "%matplotlib inline\n",
    "import scenicplus\n",
    "scenicplus.__version__\n",
    "from scenicplus.scenicplus_class import SCENICPLUS, create_SCENICPLUS_object\n",
    "from scenicplus.preprocessing.filtering import *\n",
    "import os\n",
    "import pandas\n",
    "import pyranges\n",
    "import sys\n",
    "import warnings\n",
    "_stderr = sys.stderr\n",
    "null = open(os.devnull, 'wb')\n",
    "saveDir = 'SAVEDIR'\n",
    "if not os.path.exists(saveDir):\n",
    "    os.mkdir(saveDir)"
   ]
  },
  {
   "cell_type": "code",
   "execution_count": null,
   "metadata": {},
   "outputs": [],
   "source": [
    "# load data generated in SCENICplus_preprocessing.ipynb \n",
    "import pickle\n",
    "infile = open('cistopicObject.pkl', 'rb')\n",
    "cistopic_obj = pickle.load(infile)\n",
    "infile.close()\n",
    "\n",
    "import pickle\n",
    "infile = open('Imputed_accessibility.pkl', 'rb')\n",
    "imputed_acc_obj = pickle.load(infile)\n",
    "infile.close()\n",
    "\n",
    "infile = open('menr.pkl', 'rb')\n",
    "menr = pickle.load(infile)\n",
    "infile.close()"
   ]
  },
  {
   "cell_type": "code",
   "execution_count": null,
   "metadata": {},
   "outputs": [],
   "source": [
    "## RNA \n",
    "from loomxpy.loomxpy import SCopeLoom\n",
    "from pycisTopic.loom import *\n",
    "import itertools\n",
    "import anndata\n",
    "import scanpy as sc\n",
    "import numpy as np\n",
    "rna_anndata = sc.read_loom('rna.loom')\n",
    "rna_anndata"
   ]
  },
  {
   "cell_type": "code",
   "execution_count": null,
   "metadata": {},
   "outputs": [],
   "source": [
    "## Create Scenicplus object.\n",
    "scplus_obj = create_SCENICPLUS_object(GEX_anndata = rna_anndata, \n",
    "                                     cisTopic_obj = cistopic_obj,\n",
    "                                     imputed_acc_obj = imputed_acc_obj,\n",
    "                                     menr = menr,\n",
    "                                     multi_ome_mode = False,\n",
    "                                     key_to_group_by = 'final_anno',\n",
    "                                     nr_cells_per_metacells = 5)"
   ]
  },
  {
   "cell_type": "code",
   "execution_count": null,
   "metadata": {},
   "outputs": [],
   "source": [
    "# Check biomart hosts\n",
    "ensembl_version_dict = {'105': 'http://www.ensembl.org',\n",
    "                        '104': 'http://may2021.archive.ensembl.org/',\n",
    "                        '103': 'http://feb2021.archive.ensembl.org/',\n",
    "                        '102': 'http://nov2020.archive.ensembl.org/',\n",
    "                        '101': 'http://aug2020.archive.ensembl.org/',\n",
    "                        '100': 'http://apr2020.archive.ensembl.org/',\n",
    "                        '99': 'http://jan2020.archive.ensembl.org/',\n",
    "                        '98': 'http://sep2019.archive.ensembl.org/',\n",
    "                        '97': 'http://jul2019.archive.ensembl.org/',\n",
    "                        '96': 'http://apr2019.archive.ensembl.org/',\n",
    "                        '95': 'http://jan2019.archive.ensembl.org/',\n",
    "                        '94': 'http://oct2018.archive.ensembl.org/',\n",
    "                        '93': 'http://jul2018.archive.ensembl.org/',\n",
    "                        '92': 'http://apr2018.archive.ensembl.org/',\n",
    "                        '91': 'http://dec2017.archive.ensembl.org/',\n",
    "                        '90': 'http://aug2017.archive.ensembl.org/',\n",
    "                        '89': 'http://may2017.archive.ensembl.org/',\n",
    "                        '88': 'http://mar2017.archive.ensembl.org/',\n",
    "                        '87': 'http://dec2016.archive.ensembl.org/',\n",
    "                        '86': 'http://oct2016.archive.ensembl.org/',\n",
    "                        '80': 'http://may2015.archive.ensembl.org/',\n",
    "                        '77': 'http://oct2014.archive.ensembl.org/',\n",
    "                        '75': 'http://feb2014.archive.ensembl.org/',\n",
    "                        '54': 'http://may2009.archive.ensembl.org/'}\n",
    "\n",
    "import pybiomart as pbm\n",
    "def test_ensembl_host(scplus_obj, host, species):\n",
    "    dataset = pbm.Dataset(name=species+'_gene_ensembl',  host=host)\n",
    "    annot = dataset.query(attributes=['chromosome_name', 'transcription_start_site', 'strand', 'external_gene_name', 'transcript_biotype'])\n",
    "    annot.columns = ['Chromosome', 'Start', 'Strand', 'Gene', 'Transcript_type']\n",
    "    annot['Chromosome'] = annot['Chromosome'].astype('str')\n",
    "    filter = annot['Chromosome'].str.contains('CHR|GL|JH|MT')\n",
    "    annot = annot[~filter]\n",
    "    annot.columns=['Chromosome', 'Start', 'Strand', 'Gene', 'Transcript_type']\n",
    "    gene_names_release = set(annot['Gene'].tolist())\n",
    "    ov=len([x for x in scplus_obj.gene_names if x in gene_names_release])\n",
    "    print('Genes recovered: ' + str(ov) + ' out of ' + str(len(scplus_obj.gene_names)))\n",
    "    return ov\n",
    "\n",
    "n_overlap = {}\n",
    "for version in ensembl_version_dict.keys():\n",
    "    print(f'host: {version}')\n",
    "    try:\n",
    "        n_overlap[version] =  test_ensembl_host(scplus_obj, ensembl_version_dict[version], 'mmusculus') # check here.\n",
    "    except:\n",
    "        print('Host not reachable')\n",
    "v = sorted(n_overlap.items(), key=lambda item: item[1], reverse=True)[0][0]\n",
    "print(f\"version: {v} has the largest overlap, use {ensembl_version_dict[v]} as biomart host\")"
   ]
  },
  {
   "cell_type": "code",
   "execution_count": null,
   "metadata": {},
   "outputs": [],
   "source": [
    "biomart_host = 'http://aug2017.archive.ensembl.org'"
   ]
  },
  {
   "cell_type": "code",
   "execution_count": null,
   "metadata": {},
   "outputs": [],
   "source": [
    "tmpDir = '/tmp/'"
   ]
  },
  {
   "cell_type": "code",
   "execution_count": null,
   "metadata": {},
   "outputs": [],
   "source": [
    "from scenicplus.wrappers.run_scenicplus import run_scenicplus\n",
    "try:\n",
    "    sys.stderr = open(os.devnull, \"w\")  # silence stderr\n",
    "    run_scenicplus(\n",
    "        scplus_obj = scplus_obj,\n",
    "        variable = ['final_anno'],\n",
    "        species = 'mmusculus',\n",
    "        assembly = 'mm10',\n",
    "        tf_file = 'allTFs_mm.txt', # check here\n",
    "        save_path = saveDir,\n",
    "        biomart_host = biomart_host,\n",
    "        upstream = [1000, 150000],\n",
    "        downstream = [1000, 150000],\n",
    "        calculate_TF_eGRN_correlation = False,\n",
    "        calculate_DEGs_DARs = True,\n",
    "        export_to_loom_file = False,\n",
    "        export_to_UCSC_file = False,\n",
    "        n_cpu = 12,\n",
    "        _temp_dir = os.path.join(tmpDir, 'ray_spill'))\n",
    "    sys.stderr = sys.__stderr__  # unsilence stderr\n",
    "except Exception as e:\n",
    "    #in case of failure, still save the object\n",
    "    with open(saveDir + 'scplus_obj', 'wb') as f:\n",
    "        pickle.dump(scplus_obj, f)\n",
    "    raise(e)"
   ]
  },
  {
   "cell_type": "markdown",
   "metadata": {},
   "source": [
    "## Downstream analysis"
   ]
  },
  {
   "cell_type": "code",
   "execution_count": null,
   "metadata": {},
   "outputs": [],
   "source": [
    "# Downstream analysis\n",
    "import pickle\n",
    "infile = open(saveDir + 'scplus_obj.pkl', 'rb')\n",
    "scplus_obj = pickle.load(infile)\n",
    "infile.close()\n"
   ]
  },
  {
   "cell_type": "code",
   "execution_count": null,
   "metadata": {},
   "outputs": [],
   "source": [
    "from scenicplus.preprocessing.filtering import apply_std_filtering_to_eRegulons\n",
    "apply_std_filtering_to_eRegulons(scplus_obj)\n",
    "scplus_obj.uns['eRegulon_metadata_filtered'].head()"
   ]
  },
  {
   "cell_type": "code",
   "execution_count": null,
   "metadata": {},
   "outputs": [],
   "source": [
    "scplus_obj.uns['eRegulon_metadata_filtered'].to_csv(saveDir + 'eRegulon_metadata_filtered.csv')\n",
    "scplus_obj.uns['eRegulon_metadata'].to_csv(saveDir + 'eRegulon_metadata.csv')"
   ]
  },
  {
   "cell_type": "code",
   "execution_count": null,
   "metadata": {},
   "outputs": [],
   "source": [
    "import dill\n",
    "from scenicplus.eregulon_enrichment import score_eRegulons\n",
    "region_ranking = dill.load(open(os.path.join(saveDir,  'region_ranking.pkl'), 'rb')) #load ranking calculated using the wrapper function\n",
    "gene_ranking = dill.load(open(os.path.join(saveDir, 'gene_ranking.pkl'), 'rb')) #load ranking calculated using the wrapper function"
   ]
  },
  {
   "cell_type": "code",
   "execution_count": null,
   "metadata": {},
   "outputs": [],
   "source": [
    "score_eRegulons(scplus_obj,\n",
    "                ranking = region_ranking,\n",
    "                eRegulon_signatures_key = 'eRegulon_signatures_filtered',\n",
    "                key_added = 'eRegulon_AUC_filtered',\n",
    "                enrichment_type= 'region',\n",
    "                auc_threshold = 0.1,\n",
    "                normalize = False,\n",
    "                n_cpu = 5)\n",
    "score_eRegulons(scplus_obj,\n",
    "                gene_ranking,\n",
    "                eRegulon_signatures_key = 'eRegulon_signatures_filtered',\n",
    "                key_added = 'eRegulon_AUC_filtered',\n",
    "                enrichment_type = 'gene',\n",
    "                auc_threshold = 0.1,\n",
    "                normalize= False,\n",
    "                n_cpu = 5)"
   ]
  },
  {
   "cell_type": "code",
   "execution_count": null,
   "metadata": {},
   "outputs": [],
   "source": [
    "from scenicplus.cistromes import TF_cistrome_correlation, generate_pseudobulks\n",
    "\n",
    "generate_pseudobulks(\n",
    "        scplus_obj = scplus_obj,\n",
    "        variable = 'final_anno',\n",
    "        auc_key = 'eRegulon_AUC_filtered',\n",
    "        signature_key = 'Gene_based')\n",
    "generate_pseudobulks(\n",
    "        scplus_obj = scplus_obj,\n",
    "        variable = 'final_anno',\n",
    "        auc_key = 'eRegulon_AUC_filtered',\n",
    "        signature_key = 'Region_based')\n",
    "\n",
    "TF_cistrome_correlation(\n",
    "            scplus_obj,\n",
    "            use_pseudobulk = True,\n",
    "            variable = 'final_anno',\n",
    "            auc_key = 'eRegulon_AUC_filtered',\n",
    "            signature_key = 'Gene_based',\n",
    "            out_key = 'filtered_gene_based')\n",
    "TF_cistrome_correlation(\n",
    "            scplus_obj,\n",
    "            use_pseudobulk = True,\n",
    "            variable = 'final_anno',\n",
    "            auc_key = 'eRegulon_AUC_filtered',\n",
    "            signature_key = 'Region_based',\n",
    "            out_key = 'filtered_region_based')"
   ]
  },
  {
   "cell_type": "code",
   "execution_count": null,
   "metadata": {},
   "outputs": [],
   "source": [
    "import numpy as np\n",
    "n_targets = [int(x.split('(')[1].replace('r)', '')) for x in scplus_obj.uns['TF_cistrome_correlation']['filtered_region_based']['Cistrome']]\n",
    "rho = scplus_obj.uns['TF_cistrome_correlation']['filtered_region_based']['Rho'].to_list()\n",
    "adj_pval = scplus_obj.uns['TF_cistrome_correlation']['filtered_region_based']['Adjusted_p-value'].to_list()\n",
    "\n",
    "thresholds = {\n",
    "        'rho': [-0.5, 0.5],\n",
    "        'n_targets': 0\n",
    "}\n",
    "import matplotlib.pyplot as plt\n",
    "import seaborn as sns\n",
    "fig, ax = plt.subplots(figsize = (10, 5))\n",
    "sc = ax.scatter(rho, n_targets, c = -np.log10(adj_pval), s = 5)\n",
    "ax.set_xlabel('Correlation coefficient')\n",
    "ax.set_ylabel('nr. target regions')\n",
    "#ax.hlines(y = thresholds['n_targets'], xmin = min(rho), xmax = max(rho), color = 'black', ls = 'dashed', lw = 1)\n",
    "ax.vlines(x = thresholds['rho'], ymin = 0, ymax = max(n_targets), color = 'black', ls = 'dashed', lw = 1)\n",
    "ax.text(x = thresholds['rho'][0], y = max(n_targets), s = str(thresholds['rho'][0]))\n",
    "ax.text(x = thresholds['rho'][1], y = max(n_targets), s = str(thresholds['rho'][1]))\n",
    "sns.despine(ax = ax)\n",
    "fig.colorbar(sc, label = '-log10(adjusted_pvalue)', ax = ax)\n",
    "plt.show()"
   ]
  },
  {
   "cell_type": "code",
   "execution_count": null,
   "metadata": {},
   "outputs": [],
   "source": [
    "selected_cistromes = scplus_obj.uns['TF_cistrome_correlation']['filtered_region_based'].loc[\n",
    "        np.logical_or(\n",
    "                scplus_obj.uns['TF_cistrome_correlation']['filtered_region_based']['Rho'] > thresholds['rho'][1],\n",
    "                scplus_obj.uns['TF_cistrome_correlation']['filtered_region_based']['Rho'] < thresholds['rho'][0]\n",
    "        )]['Cistrome'].to_list()\n",
    "selected_eRegulons = [x.split('_(')[0] for x in selected_cistromes]\n",
    "selected_eRegulons_gene_sig = [\n",
    "        x for x in scplus_obj.uns['eRegulon_signatures_filtered']['Gene_based'].keys()\n",
    "        if x.split('_(')[0] in selected_eRegulons]\n",
    "selected_eRegulons_region_sig = [\n",
    "        x for x in scplus_obj.uns['eRegulon_signatures_filtered']['Region_based'].keys()\n",
    "        if x.split('_(')[0] in selected_eRegulons]\n",
    "#save the results in the scenicplus object\n",
    "scplus_obj.uns['selected_eRegulon'] = {'Gene_based': selected_eRegulons_gene_sig, 'Region_based': selected_eRegulons_region_sig}\n",
    "print(f'selected: {len(selected_eRegulons_gene_sig)} eRegulons')"
   ]
  },
  {
   "cell_type": "markdown",
   "metadata": {},
   "source": [
    "## Heatmap"
   ]
  },
  {
   "cell_type": "code",
   "execution_count": null,
   "metadata": {},
   "outputs": [],
   "source": [
    "# Correlation between region based regulons and gene based regulons\n",
    "import pandas\n",
    "df1 = scplus_obj.uns['eRegulon_AUC']['Gene_based'].copy()\n",
    "df2 = scplus_obj.uns['eRegulon_AUC']['Region_based'].copy()\n",
    "df1.columns = [x.split('_(')[0] for x in df1.columns]\n",
    "df2.columns = [x.split('_(')[0] for x in df2.columns]\n",
    "correlations = df1.corrwith(df2, axis = 0)\n",
    "correlations = correlations[abs(correlations) > 0.5]\n",
    "# Kepp only R2G +\n",
    "keep = [x for x in correlations.index if '+_+' in x] + [x for x in correlations.index if '-_+' in x]\n",
    "# Keep extended if not direct\n",
    "extended = [x for x in keep if 'extended' in x]\n",
    "direct = [x for x in keep if not 'extended' in x]\n",
    "keep_extended = [x for x in extended if not x.replace('extended_', '') in direct]\n",
    "keep = direct + keep_extended\n",
    "# Keep regulons with more than 10 genes\n",
    "keep_gene = [x for x in scplus_obj.uns['eRegulon_AUC']['Gene_based'].columns if x.split('_(')[0] in keep]\n",
    "keep_gene = [x for x in keep_gene if (int(x.split('_(')[1].replace('g)', '')) > 10)]\n",
    "keep_all = [x.split('_(')[0] for x in keep_gene]\n",
    "keep_region = [x for x in scplus_obj.uns['eRegulon_AUC']['Region_based'].columns if x.split('_(')[0] in keep]\n",
    "scplus_obj.uns['selected_eRegulons'] = {}\n",
    "scplus_obj.uns['selected_eRegulons']['Gene_based'] = keep_gene\n",
    "scplus_obj.uns['selected_eRegulons']['Region_based'] = keep_region"
   ]
  },
  {
   "cell_type": "code",
   "execution_count": null,
   "metadata": {},
   "outputs": [],
   "source": [
    "from scenicplus.plotting.correlation_plot import *\n",
    "correlation_heatmap(scplus_obj,\n",
    "                    auc_key = 'eRegulon_AUC',\n",
    "                    signature_keys = ['Gene_based'],\n",
    "                    selected_regulons = scplus_obj.uns['selected_eRegulons']['Gene_based'],\n",
    "                    fcluster_threshold = 0.1,\n",
    "                    fontsize = 6,\n",
    "                    save = saveDir + 'correlation_heatmap.pdf')"
   ]
  },
  {
   "cell_type": "code",
   "execution_count": null,
   "metadata": {},
   "outputs": [],
   "source": [
    "#from scenicplus.plotting.correlation_plot import *\n",
    "jaccard_heatmap(scplus_obj,\n",
    "                    gene_or_region_based = 'Gene_based',\n",
    "                    signature_key = 'eRegulon_signatures',\n",
    "                    selected_regulons = scplus_obj.uns['selected_eRegulons']['Gene_based'],\n",
    "                    fcluster_threshold = 0.1,\n",
    "                    fontsize = 6,\n",
    "                    method='intersect',\n",
    "                   save = saveDir + 'jaccard_heatmap.pdf')"
   ]
  },
  {
   "cell_type": "markdown",
   "metadata": {},
   "source": [
    "## dotplot"
   ]
  },
  {
   "cell_type": "code",
   "execution_count": null,
   "metadata": {},
   "outputs": [],
   "source": [
    "from scenicplus.plotting.dotplot import heatmap_dotplot\n",
    "import matplotlib.pyplot as plt\n",
    "heatmap_dotplot(\n",
    "        scplus_obj = scplus_obj,\n",
    "        size_matrix = scplus_obj.uns['eRegulon_AUC_filtered']['Region_based'], #specify what to plot as dot sizes, target region enrichment in this case\n",
    "        color_matrix = scplus_obj.to_df('EXP'), #specify  what to plot as colors, TF expression in this case\n",
    "        scale_size_matrix = True,\n",
    "        scale_color_matrix = True,\n",
    "        group_variable = 'final_anno',\n",
    "        subset_eRegulons = scplus_obj.uns['selected_eRegulon']['Gene_based'],\n",
    "        index_order = ['Celltype1', 'Celltype2', 'Celltype3'], # check here\n",
    "        figsize = (15, 5),\n",
    "        orientation = 'horizontal', save = saveDir + 'TFs_dotplot.pdf')"
   ]
  },
  {
   "cell_type": "code",
   "execution_count": null,
   "metadata": {},
   "outputs": [],
   "source": [
    "dill.dump(scplus_obj, open(os.path.join(saveDir, 'scplus_obj.pkl'), 'wb'), protocol=-1)"
   ]
  }
 ],
 "metadata": {
  "kernelspec": {
   "display_name": "Python 3.8.13 ('scrip')",
   "language": "python",
   "name": "python3"
  },
  "language_info": {
   "name": "python",
   "version": "3.8.13"
  },
  "orig_nbformat": 4,
  "vscode": {
   "interpreter": {
    "hash": "617629b3c4da6ebad609501e9d82ded180100600e3ab23a83a5a325814087cc2"
   }
  }
 },
 "nbformat": 4,
 "nbformat_minor": 2
}

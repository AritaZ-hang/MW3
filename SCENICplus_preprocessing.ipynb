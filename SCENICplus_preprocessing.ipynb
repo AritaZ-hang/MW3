{
 "cells": [
  {
   "cell_type": "markdown",
   "metadata": {},
   "source": [
    "# Pre-processing steps for SCENICplus, including:\n",
    "1. Create pycisTopic object to identify cis-regulatroy topics.\n",
    "2. Running pycisTarget to excavate underlying motifs based on the results found by pycisTopic."
   ]
  },
  {
   "cell_type": "markdown",
   "metadata": {},
   "source": [
    "## Create pycisTopic object"
   ]
  },
  {
   "cell_type": "code",
   "execution_count": null,
   "metadata": {},
   "outputs": [],
   "source": [
    "### SET UP WORKING ENVIRONMENT ##\n",
    "import warnings\n",
    "warnings.simplefilter(action = 'ignore')\n",
    "import pycisTopic\n",
    "pycisTopic.__version__\n",
    "import numpy as np\n",
    "import pandas as pd\n",
    "\n",
    "projDir = 'YOURWORKDIR/'\n",
    "outDir = projDir + 'output'\n",
    "import os\n",
    "if not os.path.exists(outDir):\n",
    "    os.makedirs(outDir)\n",
    "tmpDir = 'YOURTMPDIR'"
   ]
  },
  {
   "cell_type": "code",
   "execution_count": null,
   "metadata": {},
   "outputs": [],
   "source": [
    "## read in sparse matrix, with features & barcodes respectively.\n",
    "from scipy.io import mmread, mmwrite, mminfo\n",
    "coo_mtx_path = 'matrix.mtx'\n",
    "coo_mtx = mmread(coo_mtx_path)\n",
    "mtx = coo_mtx.tocsr()\n",
    "\n",
    "path_to_blacklist = 'mm10-blacklist.v2.bed'\n",
    "\n",
    "features = pd.read_csv('features.csv', sep = ',', names = ['features'], dtype = 'str')\n",
    "barcodes = pd.read_csv('barcodes.csv', sep = ',', names = ['barcode'], dtype = 'str')\n",
    "\n",
    "from pycisTopic.cistopic_class import *\n",
    "cistopic_obj = create_cistopic_object(fragment_matrix = mtx, path_to_blacklist = path_to_blacklist, cell_names = barcodes['barcode'], region_names = features['features'])\n",
    "\n",
    "## Adding cell information\n",
    "cell_data = pd.read_csv('metadata.csv', sep = ',', dtype= 'str')\n",
    "cell_data.index = cistopic_obj.cell_data.index\n",
    "cistopic_obj.add_cell_data(cell_data)"
   ]
  },
  {
   "cell_type": "markdown",
   "metadata": {},
   "source": [
    "## Run pyCisTopic models"
   ]
  },
  {
   "cell_type": "code",
   "execution_count": null,
   "metadata": {},
   "outputs": [],
   "source": [
    "models = run_cgs_models(cistopic_obj, \n",
    "                       n_topics = [2,5,10,15,20,25],\n",
    "                       n_cpu = 200,\n",
    "                       n_iter = 200,\n",
    "                       random_state = 555,\n",
    "                       alpha = 50,\n",
    "                       alpha_by_topic = True,\n",
    "                       eta = 0.1,\n",
    "                       eta_by_topic = False,\n",
    "                       save_path = None,\n",
    "                       _temp_dir = tmpDir)"
   ]
  },
  {
   "cell_type": "code",
   "execution_count": null,
   "metadata": {},
   "outputs": [],
   "source": [
    "import pickle\n",
    "with open(outDir + 'CGS_models.pkl',  'wb') as f:\n",
    "    pickle.dump(models, f)\n",
    "model = evaluate_models(models, select_model = None, return_model = True, metrics = ['Arun_2010', 'Cao_Juan_2009', 'Minmo_2011', 'loglikelihood'], plot_metrics = False, save = outDir + 'model_selection.pdf')"
   ]
  },
  {
   "cell_type": "code",
   "execution_count": null,
   "metadata": {},
   "outputs": [],
   "source": [
    "cistopic_obj.add_LDA_model(model)\n",
    "with open(outDir + 'cistopicObject.pkl', 'wb') as f:\n",
    "    pickle.dump(cistopic_obj, f)"
   ]
  },
  {
   "cell_type": "markdown",
   "metadata": {},
   "source": [
    "## Clustering and visualization"
   ]
  },
  {
   "cell_type": "code",
   "execution_count": null,
   "metadata": {},
   "outputs": [],
   "source": [
    "import pickle\n",
    "infile = open(outDir + 'cistopicObject.pkl', 'rb')\n",
    "cistopic_obj = pickle.load(infile)\n",
    "infile.close()"
   ]
  },
  {
   "cell_type": "code",
   "execution_count": null,
   "metadata": {},
   "outputs": [],
   "source": [
    "from pycisTopic.clust_vis import *\n",
    "find_clusters(cistopic_obj, \n",
    "             target = 'cell',\n",
    "             k = 15,\n",
    "             res = [0.3, 0.5, 0.7, 0.9],\n",
    "             prefix = 'pycisTopic_',\n",
    "             scale = True,\n",
    "             split_pattern = '-')"
   ]
  },
  {
   "cell_type": "code",
   "execution_count": null,
   "metadata": {},
   "outputs": [],
   "source": [
    "run_umap(cistopic_obj, target = 'cell', scale = True)"
   ]
  },
  {
   "cell_type": "code",
   "execution_count": null,
   "metadata": {},
   "outputs": [],
   "source": [
    "visual_path = outDir + '/visualization'\n",
    "if not os.path.exists(visual_path):\n",
    "    os.mkdir(visual_path)\n",
    "plot_metadata(cistopic_obj, \n",
    "             reduction_name = 'UMAP',\n",
    "             variables = ['CELLTYPE', 'pycisTopic_leiden_15_0.9', 'pycisTopic_leiden_15_0.7', 'pycisTopic_leiden_15_0.5', 'pycisTopic_leiden_15_0.3'], \n",
    "             target = 'cell',  num_columns = 1,\n",
    "             text_size = 10, dot_size = 5,\n",
    "             figsize = (15,5),\n",
    "             save = outDir + '/visualization/dimensionality_reduction_label.pdf')"
   ]
  },
  {
   "cell_type": "code",
   "execution_count": null,
   "metadata": {},
   "outputs": [],
   "source": [
    "cell_topic_heatmap(cistopic_obj, \n",
    "                  variables = ['CELLTYPE'], \n",
    "                  scale = True, \n",
    "                  legend_loc_x = 1.05, \n",
    "                  legend_loc_y = -1.2, \n",
    "                  legend_dist_y = -1,\n",
    "                  figsize = (10, 10), \n",
    "                  save = outDir + 'visualization/heatmap_topic_contr.pdf')"
   ]
  },
  {
   "cell_type": "code",
   "execution_count": null,
   "metadata": {},
   "outputs": [],
   "source": [
    "with open(outDir + 'cistopicObject.pkl', 'wb') as f:\n",
    "    pickle.dump(cistopic_obj, f)"
   ]
  },
  {
   "cell_type": "markdown",
   "metadata": {},
   "source": [
    "## Topic binarization & QC"
   ]
  },
  {
   "cell_type": "code",
   "execution_count": null,
   "metadata": {},
   "outputs": [],
   "source": [
    "import pickle\n",
    "infile = open(outDir + 'cistopicObject.pkl', 'rb')\n",
    "cistopic_obj = pickle.load(infile)\n",
    "infile.close()"
   ]
  },
  {
   "cell_type": "code",
   "execution_count": null,
   "metadata": {},
   "outputs": [],
   "source": [
    "os.mkdir(outDir + 'topic_binarization')\n",
    "from pycisTopic.topic_binarization import *\n",
    "region_bin_topics = binarize_topics(cistopic_obj, method = 'otsu', ntop = 3000, plot = True, num_columns = 5, save = outDir + 'topic_binarization/otsu.pdf')"
   ]
  },
  {
   "cell_type": "code",
   "execution_count": null,
   "metadata": {},
   "outputs": [],
   "source": [
    "binarized_cell_topic = binarize_topics(cistopic_obj, target = 'cell', method = 'li', plot = True, num_columns = 5, nbins = 60)"
   ]
  },
  {
   "cell_type": "code",
   "execution_count": null,
   "metadata": {},
   "outputs": [],
   "source": [
    "## compute QC metrics.\n",
    "from pycisTopic.topic_qc import *\n",
    "topic_qc_metrics = compute_topic_metrics(cistopic_obj)\n",
    "\n",
    "fig_dict={}\n",
    "fig_dict['CoherenceVSAssignments']=plot_topic_qc(topic_qc_metrics, var_x='Coherence', var_y='Log10_Assignments', var_color='Gini_index', plot=False, return_fig=True)\n",
    "fig_dict['AssignmentsVSCells_in_bin']=plot_topic_qc(topic_qc_metrics, var_x='Log10_Assignments', var_y='Cells_in_binarized_topic', var_color='Gini_index', plot=False, return_fig=True)\n",
    "fig_dict['CoherenceVSCells_in_bin']=plot_topic_qc(topic_qc_metrics, var_x='Coherence', var_y='Cells_in_binarized_topic', var_color='Gini_index', plot=False, return_fig=True)\n",
    "fig_dict['CoherenceVSRegions_in_bin']=plot_topic_qc(topic_qc_metrics, var_x='Coherence', var_y='Regions_in_binarized_topic', var_color='Gini_index', plot=False, return_fig=True)\n",
    "fig_dict['CoherenceVSMarginal_dist']=plot_topic_qc(topic_qc_metrics, var_x='Coherence', var_y='Marginal_topic_dist', var_color='Gini_index', plot=False, return_fig=True)\n",
    "fig_dict['CoherenceVSGini_index']=plot_topic_qc(topic_qc_metrics, var_x='Coherence', var_y='Gini_index', var_color='Gini_index', plot=False, return_fig=True)\n",
    "\n",
    "# Plot topic stats in one figure\n",
    "fig=plt.figure(figsize=(40, 43))\n",
    "i = 1\n",
    "for fig_ in fig_dict.keys():\n",
    "    plt.subplot(2, 3, i)\n",
    "    img = fig2img(fig_dict[fig_]) #To convert figures to png to plot together, see .utils.py. This converts the figure to png.\n",
    "    plt.imshow(img)\n",
    "    plt.axis('off')\n",
    "    i += 1\n",
    "plt.subplots_adjust(wspace=0, hspace=-0.70)\n",
    "fig.savefig(outDir + 'topic_binarization/Topic_qc.pdf', bbox_inches='tight')\n",
    "plt.show()"
   ]
  },
  {
   "cell_type": "code",
   "execution_count": null,
   "metadata": {},
   "outputs": [],
   "source": [
    "topic_annot = topic_annotation(cistopic_obj, annot_var='CELLTYPE', binarized_cell_topic=binarized_cell_topic, general_topic_thr = 0.2)"
   ]
  },
  {
   "cell_type": "code",
   "execution_count": null,
   "metadata": {},
   "outputs": [],
   "source": [
    "topic_qc_metrics = pd.concat([topic_annot[['CELLTYPE', 'Ratio_cells_in_topic', 'Ratio_group_in_population']], topic_qc_metrics], axis=1)"
   ]
  },
  {
   "cell_type": "code",
   "execution_count": null,
   "metadata": {},
   "outputs": [],
   "source": [
    "# Save\n",
    "with open(outDir + 'topic_binarization/Topic_qc_metrics_annot.pkl', 'wb') as f:\n",
    "    pickle.dump(topic_qc_metrics, f)\n",
    "with open(outDir + 'topic_binarization/binarized_cell_topic.pkl', 'wb') as f:\n",
    "    pickle.dump(binarized_cell_topic, f)\n",
    "with open(outDir + 'topic_binarization/binarized_topic_region.pkl', 'wb') as f:\n",
    "    pickle.dump(region_bin_topics, f)"
   ]
  },
  {
   "cell_type": "markdown",
   "metadata": {},
   "source": [
    "## Differentially Accessible Regions(DARs)"
   ]
  },
  {
   "cell_type": "code",
   "execution_count": null,
   "metadata": {},
   "outputs": [],
   "source": [
    "import pickle\n",
    "infile = open(outDir + 'cistopicObject.pkl', 'rb')\n",
    "cistopic_obj = pickle.load(infile)\n",
    "infile.close()import pickle\n",
    "infile = open(outDir + 'cistopicObject.pkl', 'rb')\n",
    "cistopic_obj = pickle.load(infile)\n",
    "infile.close()"
   ]
  },
  {
   "cell_type": "code",
   "execution_count": null,
   "metadata": {},
   "outputs": [],
   "source": [
    "from pycisTopic.diff_features import *\n",
    "imputed_acc_obj = impute_accessibility(cistopic_obj, selected_cells=None, selected_regions=cistopic_obj.region_names, scale_factor=10**6)"
   ]
  },
  {
   "cell_type": "code",
   "execution_count": null,
   "metadata": {},
   "outputs": [],
   "source": [
    "normalized_imputed_acc_obj = normalize_scores(imputed_acc_obj, scale_factor=10**4)"
   ]
  },
  {
   "cell_type": "code",
   "execution_count": null,
   "metadata": {},
   "outputs": [],
   "source": [
    "#os.mkdir(outDir+'DARs')\n",
    "variable_regions = find_highly_variable_features(normalized_imputed_acc_obj,\n",
    "                                           min_disp = 0.05,\n",
    "                                           min_mean = 0.0125,\n",
    "                                           max_mean = 3,\n",
    "                                           max_disp = np.inf,\n",
    "                                           n_bins=20,\n",
    "                                           n_top_features=None,\n",
    "                                           plot=True,\n",
    "                                           save= outDir + 'DARs/HVR_plot.pdf')"
   ]
  },
  {
   "cell_type": "code",
   "execution_count": null,
   "metadata": {},
   "outputs": [],
   "source": [
    "markers_dict= find_diff_features(cistopic_obj,\n",
    "                      imputed_acc_obj,\n",
    "                      variable='CELLTYPE',\n",
    "                      var_features=variable_regions,\n",
    "                      contrasts=None,\n",
    "                      adjpval_thr=0.05,\n",
    "                      log2fc_thr=np.log2(1.5),\n",
    "                      n_cpu=5,\n",
    "                      _temp_dir=tmpDir + 'ray_spill',\n",
    "                      split_pattern = '-')"
   ]
  },
  {
   "cell_type": "code",
   "execution_count": null,
   "metadata": {},
   "outputs": [],
   "source": [
    "x = [print(x + ': '+ str(len(markers_dict[x]))) for x in markers_dict.keys()]"
   ]
  },
  {
   "cell_type": "code",
   "execution_count": null,
   "metadata": {},
   "outputs": [],
   "source": [
    "# Save\n",
    "with open(outDir + 'DARs/Imputed_accessibility.pkl', 'wb') as f:\n",
    "    pickle.dump(imputed_acc_obj, f)\n",
    "with open(outDir + 'DARs/DARs.pkl', 'wb') as f:\n",
    "    pickle.dump(markers_dict, f)"
   ]
  },
  {
   "cell_type": "markdown",
   "metadata": {},
   "source": [
    "## Run with pycisTarget"
   ]
  },
  {
   "cell_type": "code",
   "execution_count": null,
   "metadata": {},
   "outputs": [],
   "source": [
    "import pickle\n",
    "infile = open(outDir + 'topic_binarization/binarized_topic_region.pkl', 'rb')\n",
    "binarized_topic_region = pickle.load(infile)\n",
    "infile.close()\n",
    "\n",
    "import pickle\n",
    "infile = open(outDir + 'DARs/DARs.pkl', 'rb')\n",
    "DARs_dict = pickle.load(infile)\n",
    "infile.close()"
   ]
  },
  {
   "cell_type": "code",
   "execution_count": null,
   "metadata": {},
   "outputs": [],
   "source": [
    "# format region sets\n",
    "import re\n",
    "import pyranges as pr\n",
    "from pycistarget.utils import *\n",
    "region_sets = {}\n",
    "region_sets['Topics'] = {key : pr.PyRanges(region_names_to_coordinates(binarized_topic_region[key].index.tolist())) for key in binarized_topic_region.keys()}\n",
    "region_sets['DARs'] = {re.sub('[^A-Za-z0-9]+', '_', key): pr.PyRanges(region_names_to_coordinates(DARs_dict[key].index.tolist())) for key in DARs_dict.keys()}\n",
    "# Run pycistarget\n",
    "# run_without_promoters = True, will run the methods in all regions + the region sets without promoters\n",
    "savepath = outDir + 'pycisTarget/'\n",
    "if not os.path.exists(savepath):\n",
    "    os.mkdir(savepath)\n",
    "\n",
    "import os\n",
    "from scenicplus.wrappers.run_pycistarget import *\n",
    "run_pycistarget(region_sets,\n",
    "                 ctx_db_path = 'mm10_screen_v10_clust.regions_vs_motifs.rankings.feather', ## download this file at aertslab's website\n",
    "                 species = 'mus_musculus',\n",
    "                 save_path = savepath,\n",
    "                 run_without_promoters = False,\n",
    "                 biomart_host = 'http://www.ensembl.org',\n",
    "                 promoter_space = 500,\n",
    "                 ctx_auc_threshold = 0.005,\n",
    "                 ctx_nes_threshold = 3.0,\n",
    "                 ctx_rank_threshold = 0.05,\n",
    "                 dem_log2fc_thr = 0.5,\n",
    "                 dem_motif_hit_thr = 3.0,\n",
    "                 dem_max_bg_regions = 500,\n",
    "                 n_cpu = 16,\n",
    "                 _temp_dir = tmpDir,\n",
    "               ignore_reinit_error=True,\n",
    "               path_to_motif_annotations = 'motifs-v10nr_clust-nr.mgi-m0.001-o0.0.tbl',\n",
    "               annotation_version = 'v10nr_clust',\n",
    "               annotation = ['Direct_annot', 'Orthology_annot'])"
   ]
  }
 ],
 "metadata": {
  "kernelspec": {
   "display_name": "Python 3.8.13 ('scrip')",
   "language": "python",
   "name": "python3"
  },
  "language_info": {
   "name": "python",
   "version": "3.8.13"
  },
  "orig_nbformat": 4,
  "vscode": {
   "interpreter": {
    "hash": "617629b3c4da6ebad609501e9d82ded180100600e3ab23a83a5a325814087cc2"
   }
  }
 },
 "nbformat": 4,
 "nbformat_minor": 2
}
